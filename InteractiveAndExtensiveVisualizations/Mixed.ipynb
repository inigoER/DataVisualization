{
  "nbformat": 4,
  "nbformat_minor": 0,
  "metadata": {
    "colab": {
      "provenance": [],
      "collapsed_sections": [
        "H00mkqBQFR5b",
        "xzUrPb7gcxT6",
        "sb5FwzUkc2xw",
        "5JrBJ5Cxc3JO",
        "9JhjrFUqc2-e",
        "GtAhbB7Bc3SX",
        "QCyrtE6dc3XH",
        "G8qzyVDrc3dQ",
        "YwninKFwc3mu",
        "rwjBXPocc3t-",
        "7Zt4m4YKc3zG"
      ]
    },
    "kernelspec": {
      "name": "python3",
      "display_name": "Python 3"
    },
    "language_info": {
      "name": "python"
    }
  },
  "cells": [
    {
      "cell_type": "markdown",
      "source": [
        "# Proyecto de Medio Semestre."
      ],
      "metadata": {
        "id": "F7T3lfd0Byv6"
      }
    },
    {
      "cell_type": "code",
      "execution_count": 1,
      "metadata": {
        "id": "inOWqU-WlJf7"
      },
      "outputs": [],
      "source": [
        "import numpy as np\n",
        "import pandas as pd\n",
        "import matplotlib.pyplot as plt\n",
        "import seaborn as sns"
      ]
    },
    {
      "cell_type": "markdown",
      "source": [
        "Para el proyecto de Medio Semestre, vamos a trabajar con el dataset contenido en la siguiente pagina:\n",
        "\n",
        "https://www.kaggle.com/datasets/dipam7/student-grade-prediction\n",
        "\n",
        "Tu primer tarea sera descargar el archivo (viene en una carpeta comprimida .zip). Una vez descargado (y si estás en Google Colab), haz clic en el dibujo de la carpeta que aparece en la barra de la izquierda, para cargar el archivo.\n",
        "SI estás trabajando con Jupyter Notebook, sólo será necesario que especifiques el _path_ correcto hacia tu archivo.\n",
        "\n",
        "Ya que este cargado, prueba a correr la siguiente celda para leer los datos (adáptala de ser necesario)."
      ],
      "metadata": {
        "id": "OFYgtpfJ-O8M"
      }
    },
    {
      "cell_type": "code",
      "source": [
        "df = pd.read_csv(\"student-mat.csv\")\n",
        "df"
      ],
      "metadata": {
        "colab": {
          "base_uri": "https://localhost:8080/",
          "height": 423
        },
        "id": "xXKD0ILs-OBv",
        "outputId": "129274ad-a723-4cf4-b1dd-ae02cc411fdb"
      },
      "execution_count": 2,
      "outputs": [
        {
          "output_type": "execute_result",
          "data": {
            "text/plain": [
              "    school sex  age address famsize Pstatus  Medu  Fedu      Mjob      Fjob  \\\n",
              "0       GP   F   18       U     GT3       A     4     4   at_home   teacher   \n",
              "1       GP   F   17       U     GT3       T     1     1   at_home     other   \n",
              "2       GP   F   15       U     LE3       T     1     1   at_home     other   \n",
              "3       GP   F   15       U     GT3       T     4     2    health  services   \n",
              "4       GP   F   16       U     GT3       T     3     3     other     other   \n",
              "..     ...  ..  ...     ...     ...     ...   ...   ...       ...       ...   \n",
              "390     MS   M   20       U     LE3       A     2     2  services  services   \n",
              "391     MS   M   17       U     LE3       T     3     1  services  services   \n",
              "392     MS   M   21       R     GT3       T     1     1     other     other   \n",
              "393     MS   M   18       R     LE3       T     3     2  services     other   \n",
              "394     MS   M   19       U     LE3       T     1     1     other   at_home   \n",
              "\n",
              "     ... famrel freetime  goout  Dalc  Walc health absences  G1  G2  G3  \n",
              "0    ...      4        3      4     1     1      3        6   5   6   6  \n",
              "1    ...      5        3      3     1     1      3        4   5   5   6  \n",
              "2    ...      4        3      2     2     3      3       10   7   8  10  \n",
              "3    ...      3        2      2     1     1      5        2  15  14  15  \n",
              "4    ...      4        3      2     1     2      5        4   6  10  10  \n",
              "..   ...    ...      ...    ...   ...   ...    ...      ...  ..  ..  ..  \n",
              "390  ...      5        5      4     4     5      4       11   9   9   9  \n",
              "391  ...      2        4      5     3     4      2        3  14  16  16  \n",
              "392  ...      5        5      3     3     3      3        3  10   8   7  \n",
              "393  ...      4        4      1     3     4      5        0  11  12  10  \n",
              "394  ...      3        2      3     3     3      5        5   8   9   9  \n",
              "\n",
              "[395 rows x 33 columns]"
            ],
            "text/html": [
              "\n",
              "  <div id=\"df-e745dc24-8007-4bd4-a9df-000189b9e724\">\n",
              "    <div class=\"colab-df-container\">\n",
              "      <div>\n",
              "<style scoped>\n",
              "    .dataframe tbody tr th:only-of-type {\n",
              "        vertical-align: middle;\n",
              "    }\n",
              "\n",
              "    .dataframe tbody tr th {\n",
              "        vertical-align: top;\n",
              "    }\n",
              "\n",
              "    .dataframe thead th {\n",
              "        text-align: right;\n",
              "    }\n",
              "</style>\n",
              "<table border=\"1\" class=\"dataframe\">\n",
              "  <thead>\n",
              "    <tr style=\"text-align: right;\">\n",
              "      <th></th>\n",
              "      <th>school</th>\n",
              "      <th>sex</th>\n",
              "      <th>age</th>\n",
              "      <th>address</th>\n",
              "      <th>famsize</th>\n",
              "      <th>Pstatus</th>\n",
              "      <th>Medu</th>\n",
              "      <th>Fedu</th>\n",
              "      <th>Mjob</th>\n",
              "      <th>Fjob</th>\n",
              "      <th>...</th>\n",
              "      <th>famrel</th>\n",
              "      <th>freetime</th>\n",
              "      <th>goout</th>\n",
              "      <th>Dalc</th>\n",
              "      <th>Walc</th>\n",
              "      <th>health</th>\n",
              "      <th>absences</th>\n",
              "      <th>G1</th>\n",
              "      <th>G2</th>\n",
              "      <th>G3</th>\n",
              "    </tr>\n",
              "  </thead>\n",
              "  <tbody>\n",
              "    <tr>\n",
              "      <th>0</th>\n",
              "      <td>GP</td>\n",
              "      <td>F</td>\n",
              "      <td>18</td>\n",
              "      <td>U</td>\n",
              "      <td>GT3</td>\n",
              "      <td>A</td>\n",
              "      <td>4</td>\n",
              "      <td>4</td>\n",
              "      <td>at_home</td>\n",
              "      <td>teacher</td>\n",
              "      <td>...</td>\n",
              "      <td>4</td>\n",
              "      <td>3</td>\n",
              "      <td>4</td>\n",
              "      <td>1</td>\n",
              "      <td>1</td>\n",
              "      <td>3</td>\n",
              "      <td>6</td>\n",
              "      <td>5</td>\n",
              "      <td>6</td>\n",
              "      <td>6</td>\n",
              "    </tr>\n",
              "    <tr>\n",
              "      <th>1</th>\n",
              "      <td>GP</td>\n",
              "      <td>F</td>\n",
              "      <td>17</td>\n",
              "      <td>U</td>\n",
              "      <td>GT3</td>\n",
              "      <td>T</td>\n",
              "      <td>1</td>\n",
              "      <td>1</td>\n",
              "      <td>at_home</td>\n",
              "      <td>other</td>\n",
              "      <td>...</td>\n",
              "      <td>5</td>\n",
              "      <td>3</td>\n",
              "      <td>3</td>\n",
              "      <td>1</td>\n",
              "      <td>1</td>\n",
              "      <td>3</td>\n",
              "      <td>4</td>\n",
              "      <td>5</td>\n",
              "      <td>5</td>\n",
              "      <td>6</td>\n",
              "    </tr>\n",
              "    <tr>\n",
              "      <th>2</th>\n",
              "      <td>GP</td>\n",
              "      <td>F</td>\n",
              "      <td>15</td>\n",
              "      <td>U</td>\n",
              "      <td>LE3</td>\n",
              "      <td>T</td>\n",
              "      <td>1</td>\n",
              "      <td>1</td>\n",
              "      <td>at_home</td>\n",
              "      <td>other</td>\n",
              "      <td>...</td>\n",
              "      <td>4</td>\n",
              "      <td>3</td>\n",
              "      <td>2</td>\n",
              "      <td>2</td>\n",
              "      <td>3</td>\n",
              "      <td>3</td>\n",
              "      <td>10</td>\n",
              "      <td>7</td>\n",
              "      <td>8</td>\n",
              "      <td>10</td>\n",
              "    </tr>\n",
              "    <tr>\n",
              "      <th>3</th>\n",
              "      <td>GP</td>\n",
              "      <td>F</td>\n",
              "      <td>15</td>\n",
              "      <td>U</td>\n",
              "      <td>GT3</td>\n",
              "      <td>T</td>\n",
              "      <td>4</td>\n",
              "      <td>2</td>\n",
              "      <td>health</td>\n",
              "      <td>services</td>\n",
              "      <td>...</td>\n",
              "      <td>3</td>\n",
              "      <td>2</td>\n",
              "      <td>2</td>\n",
              "      <td>1</td>\n",
              "      <td>1</td>\n",
              "      <td>5</td>\n",
              "      <td>2</td>\n",
              "      <td>15</td>\n",
              "      <td>14</td>\n",
              "      <td>15</td>\n",
              "    </tr>\n",
              "    <tr>\n",
              "      <th>4</th>\n",
              "      <td>GP</td>\n",
              "      <td>F</td>\n",
              "      <td>16</td>\n",
              "      <td>U</td>\n",
              "      <td>GT3</td>\n",
              "      <td>T</td>\n",
              "      <td>3</td>\n",
              "      <td>3</td>\n",
              "      <td>other</td>\n",
              "      <td>other</td>\n",
              "      <td>...</td>\n",
              "      <td>4</td>\n",
              "      <td>3</td>\n",
              "      <td>2</td>\n",
              "      <td>1</td>\n",
              "      <td>2</td>\n",
              "      <td>5</td>\n",
              "      <td>4</td>\n",
              "      <td>6</td>\n",
              "      <td>10</td>\n",
              "      <td>10</td>\n",
              "    </tr>\n",
              "    <tr>\n",
              "      <th>...</th>\n",
              "      <td>...</td>\n",
              "      <td>...</td>\n",
              "      <td>...</td>\n",
              "      <td>...</td>\n",
              "      <td>...</td>\n",
              "      <td>...</td>\n",
              "      <td>...</td>\n",
              "      <td>...</td>\n",
              "      <td>...</td>\n",
              "      <td>...</td>\n",
              "      <td>...</td>\n",
              "      <td>...</td>\n",
              "      <td>...</td>\n",
              "      <td>...</td>\n",
              "      <td>...</td>\n",
              "      <td>...</td>\n",
              "      <td>...</td>\n",
              "      <td>...</td>\n",
              "      <td>...</td>\n",
              "      <td>...</td>\n",
              "      <td>...</td>\n",
              "    </tr>\n",
              "    <tr>\n",
              "      <th>390</th>\n",
              "      <td>MS</td>\n",
              "      <td>M</td>\n",
              "      <td>20</td>\n",
              "      <td>U</td>\n",
              "      <td>LE3</td>\n",
              "      <td>A</td>\n",
              "      <td>2</td>\n",
              "      <td>2</td>\n",
              "      <td>services</td>\n",
              "      <td>services</td>\n",
              "      <td>...</td>\n",
              "      <td>5</td>\n",
              "      <td>5</td>\n",
              "      <td>4</td>\n",
              "      <td>4</td>\n",
              "      <td>5</td>\n",
              "      <td>4</td>\n",
              "      <td>11</td>\n",
              "      <td>9</td>\n",
              "      <td>9</td>\n",
              "      <td>9</td>\n",
              "    </tr>\n",
              "    <tr>\n",
              "      <th>391</th>\n",
              "      <td>MS</td>\n",
              "      <td>M</td>\n",
              "      <td>17</td>\n",
              "      <td>U</td>\n",
              "      <td>LE3</td>\n",
              "      <td>T</td>\n",
              "      <td>3</td>\n",
              "      <td>1</td>\n",
              "      <td>services</td>\n",
              "      <td>services</td>\n",
              "      <td>...</td>\n",
              "      <td>2</td>\n",
              "      <td>4</td>\n",
              "      <td>5</td>\n",
              "      <td>3</td>\n",
              "      <td>4</td>\n",
              "      <td>2</td>\n",
              "      <td>3</td>\n",
              "      <td>14</td>\n",
              "      <td>16</td>\n",
              "      <td>16</td>\n",
              "    </tr>\n",
              "    <tr>\n",
              "      <th>392</th>\n",
              "      <td>MS</td>\n",
              "      <td>M</td>\n",
              "      <td>21</td>\n",
              "      <td>R</td>\n",
              "      <td>GT3</td>\n",
              "      <td>T</td>\n",
              "      <td>1</td>\n",
              "      <td>1</td>\n",
              "      <td>other</td>\n",
              "      <td>other</td>\n",
              "      <td>...</td>\n",
              "      <td>5</td>\n",
              "      <td>5</td>\n",
              "      <td>3</td>\n",
              "      <td>3</td>\n",
              "      <td>3</td>\n",
              "      <td>3</td>\n",
              "      <td>3</td>\n",
              "      <td>10</td>\n",
              "      <td>8</td>\n",
              "      <td>7</td>\n",
              "    </tr>\n",
              "    <tr>\n",
              "      <th>393</th>\n",
              "      <td>MS</td>\n",
              "      <td>M</td>\n",
              "      <td>18</td>\n",
              "      <td>R</td>\n",
              "      <td>LE3</td>\n",
              "      <td>T</td>\n",
              "      <td>3</td>\n",
              "      <td>2</td>\n",
              "      <td>services</td>\n",
              "      <td>other</td>\n",
              "      <td>...</td>\n",
              "      <td>4</td>\n",
              "      <td>4</td>\n",
              "      <td>1</td>\n",
              "      <td>3</td>\n",
              "      <td>4</td>\n",
              "      <td>5</td>\n",
              "      <td>0</td>\n",
              "      <td>11</td>\n",
              "      <td>12</td>\n",
              "      <td>10</td>\n",
              "    </tr>\n",
              "    <tr>\n",
              "      <th>394</th>\n",
              "      <td>MS</td>\n",
              "      <td>M</td>\n",
              "      <td>19</td>\n",
              "      <td>U</td>\n",
              "      <td>LE3</td>\n",
              "      <td>T</td>\n",
              "      <td>1</td>\n",
              "      <td>1</td>\n",
              "      <td>other</td>\n",
              "      <td>at_home</td>\n",
              "      <td>...</td>\n",
              "      <td>3</td>\n",
              "      <td>2</td>\n",
              "      <td>3</td>\n",
              "      <td>3</td>\n",
              "      <td>3</td>\n",
              "      <td>5</td>\n",
              "      <td>5</td>\n",
              "      <td>8</td>\n",
              "      <td>9</td>\n",
              "      <td>9</td>\n",
              "    </tr>\n",
              "  </tbody>\n",
              "</table>\n",
              "<p>395 rows × 33 columns</p>\n",
              "</div>\n",
              "      <button class=\"colab-df-convert\" onclick=\"convertToInteractive('df-e745dc24-8007-4bd4-a9df-000189b9e724')\"\n",
              "              title=\"Convert this dataframe to an interactive table.\"\n",
              "              style=\"display:none;\">\n",
              "        \n",
              "  <svg xmlns=\"http://www.w3.org/2000/svg\" height=\"24px\"viewBox=\"0 0 24 24\"\n",
              "       width=\"24px\">\n",
              "    <path d=\"M0 0h24v24H0V0z\" fill=\"none\"/>\n",
              "    <path d=\"M18.56 5.44l.94 2.06.94-2.06 2.06-.94-2.06-.94-.94-2.06-.94 2.06-2.06.94zm-11 1L8.5 8.5l.94-2.06 2.06-.94-2.06-.94L8.5 2.5l-.94 2.06-2.06.94zm10 10l.94 2.06.94-2.06 2.06-.94-2.06-.94-.94-2.06-.94 2.06-2.06.94z\"/><path d=\"M17.41 7.96l-1.37-1.37c-.4-.4-.92-.59-1.43-.59-.52 0-1.04.2-1.43.59L10.3 9.45l-7.72 7.72c-.78.78-.78 2.05 0 2.83L4 21.41c.39.39.9.59 1.41.59.51 0 1.02-.2 1.41-.59l7.78-7.78 2.81-2.81c.8-.78.8-2.07 0-2.86zM5.41 20L4 18.59l7.72-7.72 1.47 1.35L5.41 20z\"/>\n",
              "  </svg>\n",
              "      </button>\n",
              "      \n",
              "  <style>\n",
              "    .colab-df-container {\n",
              "      display:flex;\n",
              "      flex-wrap:wrap;\n",
              "      gap: 12px;\n",
              "    }\n",
              "\n",
              "    .colab-df-convert {\n",
              "      background-color: #E8F0FE;\n",
              "      border: none;\n",
              "      border-radius: 50%;\n",
              "      cursor: pointer;\n",
              "      display: none;\n",
              "      fill: #1967D2;\n",
              "      height: 32px;\n",
              "      padding: 0 0 0 0;\n",
              "      width: 32px;\n",
              "    }\n",
              "\n",
              "    .colab-df-convert:hover {\n",
              "      background-color: #E2EBFA;\n",
              "      box-shadow: 0px 1px 2px rgba(60, 64, 67, 0.3), 0px 1px 3px 1px rgba(60, 64, 67, 0.15);\n",
              "      fill: #174EA6;\n",
              "    }\n",
              "\n",
              "    [theme=dark] .colab-df-convert {\n",
              "      background-color: #3B4455;\n",
              "      fill: #D2E3FC;\n",
              "    }\n",
              "\n",
              "    [theme=dark] .colab-df-convert:hover {\n",
              "      background-color: #434B5C;\n",
              "      box-shadow: 0px 1px 3px 1px rgba(0, 0, 0, 0.15);\n",
              "      filter: drop-shadow(0px 1px 2px rgba(0, 0, 0, 0.3));\n",
              "      fill: #FFFFFF;\n",
              "    }\n",
              "  </style>\n",
              "\n",
              "      <script>\n",
              "        const buttonEl =\n",
              "          document.querySelector('#df-e745dc24-8007-4bd4-a9df-000189b9e724 button.colab-df-convert');\n",
              "        buttonEl.style.display =\n",
              "          google.colab.kernel.accessAllowed ? 'block' : 'none';\n",
              "\n",
              "        async function convertToInteractive(key) {\n",
              "          const element = document.querySelector('#df-e745dc24-8007-4bd4-a9df-000189b9e724');\n",
              "          const dataTable =\n",
              "            await google.colab.kernel.invokeFunction('convertToInteractive',\n",
              "                                                     [key], {});\n",
              "          if (!dataTable) return;\n",
              "\n",
              "          const docLinkHtml = 'Like what you see? Visit the ' +\n",
              "            '<a target=\"_blank\" href=https://colab.research.google.com/notebooks/data_table.ipynb>data table notebook</a>'\n",
              "            + ' to learn more about interactive tables.';\n",
              "          element.innerHTML = '';\n",
              "          dataTable['output_type'] = 'display_data';\n",
              "          await google.colab.output.renderOutput(dataTable, element);\n",
              "          const docLink = document.createElement('div');\n",
              "          docLink.innerHTML = docLinkHtml;\n",
              "          element.appendChild(docLink);\n",
              "        }\n",
              "      </script>\n",
              "    </div>\n",
              "  </div>\n",
              "  "
            ]
          },
          "metadata": {},
          "execution_count": 2
        }
      ]
    },
    {
      "cell_type": "markdown",
      "source": [
        "## Objetivo del Proyecto\n",
        "\n",
        "Par este proyecto de Medio Semestre vamos a realizar, de manera **individual** un **Análisis Exploratorio de Datos**.\n",
        "\n",
        "(Por si tienes duda de qué es esto: recordarás que, después de entender lo mejor posible el problema a resolver, el segundo paso en el proceso del Científico de Datos es conocer muy bien los datos que tiene a la mano; para eso, se realiza un AED, o *EDA*, por sus siglas en inglés).\n",
        "\n",
        "Un repaso de qué se puede hacer está en la siguiente página: https://www.kaggle.com/general/329404\n",
        "\n",
        "## El problema a resolver.\n",
        "\n",
        "Como puedes observar en la página del proyecto, en el primer link de este documento, la idea es analizar los factores que contribuyen de manera más potente en la calificación final de los estudiantes. El dataset Tiene 30 variables con características de los estudiantes y tres calificaciones, `G1`, `G2` y la calificación final, `G3`. Como son estudiantes de Portugal, las calificaciones tienen un valor máximo de 20 puntos.\n",
        "\n",
        "En esta ocasión, **NO** vamos a llegar al modelado. No contará para su calificación del proyecto. Vamos a trabajar en un paso anterior, que es conocer bien los datos con los que estoy trabajando.\n",
        "\n",
        "## ¿Qué se va a calificar?\n",
        "\n",
        "El proyecto vale 30% de la calificacion final.\n",
        "\n",
        "* Que respondas a 10 preguntas que tú mismo te hagas sobre los datos. \n",
        "\n",
        "Para ello, introduce una celda de texto y explícame qué pregunta tienes sobre los datos y que vas a tratar responder. Por ejemplo: ¿Qué calificaciones fueron las más comúnes?\n",
        "\n",
        "* La gráfica que pudiera ayudarte a responder esa pregunta.\n",
        "\n",
        "* Una pequeña conclusión.\n",
        "\n",
        "Esta puede incluir la respuesta a la pregunta que te hiciste, si es que la pudiste resolver con tu código, o si tu respuesta es inconclusa, una hipótesis que explique qué está pasando.\n",
        "\n",
        "### Deberás incluir:\n",
        "\n",
        "* Al menos tres lineas de código con funciones que NO vimos en clase.\n",
        "* Al menos cuatro tipos distintos de gráficos.\n",
        "* Elementos que hagan más claro tu gráfico (títulos en el gráfico, en los ejes de ser requeridos, que tus ejes comiencen desde 0, colores, leyendas, etc.)\n",
        "* Conclusiones apropidas - tu gráfico realmente concuerda con lo explicado en la conclusión.\n",
        "\n",
        "Cada uno de los elementos que te falten te restarán 2/30 puntos.\n",
        "\n",
        "### Posibles puntos extra si:\n",
        "\n",
        "* Generas gráficos muy estéticos.\n",
        "* Traduces muy bien los problemas de la vida real y los conviertes a problemas técnicos, sin perder de vista el problema que estamos tratando de resolver. Asegurate de que estes investigando asuntos relevantes (no seas taaaan especifico, ni tan general).\n",
        "\n",
        "Fecha de Entrega: domingo 12 de marzo, 11:59 pm.\n"
      ],
      "metadata": {
        "id": "4DkC2VohAM0f"
      }
    },
    {
      "cell_type": "markdown",
      "source": [
        "### Ejemplo:\n",
        "\n",
        "0. ¿La mayoría de los estudiantes obtuvo una calificación final aprobatoria (10 o más puntos)?"
      ],
      "metadata": {
        "id": "H00mkqBQFR5b"
      }
    },
    {
      "cell_type": "code",
      "source": [
        "plt.hist(df[\"G3\"], bins=20)\n",
        "plt.title(\"Distribucion de la calificación final.\")\n",
        "plt.xlabel(\"Calificación Final\")\n",
        "plt.ylabel(\"Frecuencia\")\n",
        "plt.axvline(x = 10, color = 'r', linestyle = '--')\n",
        "plt.show()"
      ],
      "metadata": {
        "colab": {
          "base_uri": "https://localhost:8080/",
          "height": 0
        },
        "id": "vHhrF42w_mkC",
        "outputId": "04c7d242-6053-4d87-bc4a-abdb7fa38c60"
      },
      "execution_count": 3,
      "outputs": [
        {
          "output_type": "display_data",
          "data": {
            "text/plain": [
              "<Figure size 432x288 with 1 Axes>"
            ],
            "image/png": "[encoded data removed]"
          },
          "metadata": {
            "needs_background": "light"
          }
        }
      ]
    },
    {
      "cell_type": "markdown",
      "source": [
        "Sí. La mayoría de los estudiantes en mi *dataset* obtuvo 10 o más puntos. A pesar de ello, hay un número importante de estudiantes que obtuvo 0 como calificación final.\n",
        "\n",
        "¡Tu turno!"
      ],
      "metadata": {
        "id": "S6QQxioIGMTH"
      }
    },
    {
      "cell_type": "markdown",
      "source": [
        "### Pregunta 1\n",
        "\n",
        "¿Hay alguna diferencia entre la nota final de los alumnos de cada escuela? Es decir, ¿la escuela influencía la distribución de las notas finales en sus alumnos?"
      ],
      "metadata": {
        "id": "xzUrPb7gcxT6"
      }
    },
    {
      "cell_type": "code",
      "source": [
        "#reset_index es para asegurarnos de que el índice del fragmento de la base de datos es correcto, si no lo ponemos, el índice se hereda de la real\n",
        "#el drop = True es para que no se forme una columna con el índice anterior\n",
        "dfGP = df[df['school']=='GP'].reset_index(drop=True)\n",
        "#Sacamos el tamaño para saber cuántos datos hay de GP\n",
        "len(dfGP)"
      ],
      "metadata": {
        "colab": {
          "base_uri": "https://localhost:8080/"
        },
        "id": "dqUDwCPydBz-",
        "outputId": "d2b0ec30-146e-4ee7-f043-cd691a266149"
      },
      "execution_count": 4,
      "outputs": [
        {
          "output_type": "execute_result",
          "data": {
            "text/plain": [
              "349"
            ]
          },
          "metadata": {},
          "execution_count": 4
        }
      ]
    },
    {
      "cell_type": "code",
      "source": [
        "dfMS = df[df['school']=='MS'].reset_index(drop=True)\n",
        "#Sacamos el tamaño para saber cuántos datos hay de MS\n",
        "len(dfMS)"
      ],
      "metadata": {
        "colab": {
          "base_uri": "https://localhost:8080/"
        },
        "id": "_ICJeNNRdWdY",
        "outputId": "42b9d1a6-28c2-4373-c2d5-5fb283f005d9"
      },
      "execution_count": 5,
      "outputs": [
        {
          "output_type": "execute_result",
          "data": {
            "text/plain": [
              "46"
            ]
          },
          "metadata": {},
          "execution_count": 5
        }
      ]
    },
    {
      "cell_type": "code",
      "source": [
        "#Como hay una diferencia importante en cantidad de alumnos, mediremos por porcentaje y no por cantidad\n",
        "from matplotlib.ticker import PercentFormatter\n",
        "#Weights es para hacer que no se tome las cuentas sino el porcentaje\n",
        "plt.hist(x=dfGP['G3'], bins = 15, weights=np.ones(len(dfGP)) / len(dfGP), alpha = 0.5, label = \"GP\", color = 'green')\n",
        "plt.hist(x=dfMS['G3'], bins = 15, weights=np.ones(len(dfMS)) / len(dfMS), alpha = 0.5, label = \"MS\", color = 'pink')\n",
        "plt.xlabel(\"Nota final\", size=14)\n",
        "plt.ylabel(\"Porcentaje de alumnos con la nota final\", size=14)\n",
        "plt.legend(loc='upper right')\n",
        "plt.title(\"Distribución de notas finales por escuela\")\n",
        "plt.gca().yaxis.set_major_formatter(PercentFormatter(1))\n",
        "plt.show()"
      ],
      "metadata": {
        "colab": {
          "base_uri": "https://localhost:8080/",
          "height": 314
        },
        "id": "U1YXkH98dfTv",
        "outputId": "94bc747c-21ef-4683-8582-2592700f7d7b"
      },
      "execution_count": 6,
      "outputs": [
        {
          "output_type": "display_data",
          "data": {
            "text/plain": [
              "<Figure size 432x288 with 1 Axes>"
            ],
            "image/png": "[encoded data removed]"
          },
          "metadata": {
            "needs_background": "light"
          }
        }
      ]
    },
    {
      "cell_type": "markdown",
      "source": [
        "Sí parece haber diferencias, aunque los de la escuela GP parecen tener una distribución más uniforme y con calificaciones ligeramente más altas, mientras que los de MS parecen tener notas ligeramente más bajas y una extrema cantidad de alumnos con notas de casi 10.0."
      ],
      "metadata": {
        "id": "kgMBqhdOeVcx"
      }
    },
    {
      "cell_type": "markdown",
      "source": [
        "### Pregunta 2\n",
        "¿Cuál de las dos notas, G1 y G2, tiene más relación con la nota final? ¿La escuela influye?"
      ],
      "metadata": {
        "id": "sb5FwzUkc2xw"
      }
    },
    {
      "cell_type": "code",
      "source": [
        "g = sns.pairplot(df, x_vars = ['G1','G2'], y_vars = ['G3'], aspect = 1.5, height = 4, kind = 'hist', hue = 'school')\n",
        "g.fig.suptitle(\"Correlación de notas parciales con nota final\", y=1.08)\n",
        "g.axes[0,0].set_xlim((-0.5,21.0))\n",
        "g.axes[0,1].set_xlim((-0.5,21.0))\n",
        "plt.show()"
      ],
      "metadata": {
        "colab": {
          "base_uri": "https://localhost:8080/",
          "height": 334
        },
        "id": "DxLVizlQhh9i",
        "outputId": "b0dbf420-62e2-4c70-b6c6-9b59ff58c0b2"
      },
      "execution_count": 7,
      "outputs": [
        {
          "output_type": "display_data",
          "data": {
            "text/plain": [
              "<Figure size 914.875x288 with 2 Axes>"
            ],
            "image/png": "[encoded data removed]"
          },
          "metadata": {
            "needs_background": "light"
          }
        }
      ]
    },
    {
      "cell_type": "markdown",
      "source": [
        "Parece que la nota del segundo parcial está más correlacionada con la nota final que la del primero, sin embargo, ambas parecen estar muy relacionadas, en cuando a la escuela, parece que los alumnos de MS tienen mayor constancia, es decir, sus notas parciales están más correlacionadas con la nota final, sin embargo, al haber menos datos, esta conclusión puede no estar correcta.\n",
        "Un dato interesante que podemos ver es que los alumnos que obtuvieron 0 en la nota final tienen notas distintas en su parcial 1 (todos) y en su parcial 2 (algunos), así que probablemente tienen 0 porque no asistieron al examen o dieron de baja el curso."
      ],
      "metadata": {
        "id": "exP9Fms9l9aB"
      }
    },
    {
      "cell_type": "markdown",
      "source": [
        "### Pregunta 3\n",
        "¿Qué tan relevante es la edad para tener una nota final aprobatoria?"
      ],
      "metadata": {
        "id": "5JrBJ5Cxc3JO"
      }
    },
    {
      "cell_type": "code",
      "source": [
        "dfAp = df[df['G3']>10.0].reset_index(drop = True)\n",
        "countAge = []\n",
        "countA = []\n",
        "ages = []\n",
        "for i in np.unique(df['age']):\n",
        "  ages.append(i)\n",
        "  countA.append(len(dfAp[dfAp['age'] == i]))\n",
        "  countAge.append(len(df[df['age'] == i]))\n",
        "percentAge = [0]*len(countAge)\n",
        "for i in range(0,len(countAge)):\n",
        "  percentAge[i] = countA[i]/countAge[i]"
      ],
      "metadata": {
        "id": "pyuZOkvnnQrK"
      },
      "execution_count": 8,
      "outputs": []
    },
    {
      "cell_type": "code",
      "source": [
        "plt.bar(ages, percentAge, color = 'green')\n",
        "plt.gca().yaxis.set_major_formatter(PercentFormatter(1))\n",
        "plt.title('Porcentaje de personas con nota aprobatoria que tienen cierta edad')\n",
        "plt.xlabel(\"Edad\")\n",
        "plt.ylabel(\"Porcentaje de aprobación\")\n",
        "plt.show()"
      ],
      "metadata": {
        "colab": {
          "base_uri": "https://localhost:8080/",
          "height": 295
        },
        "id": "sNwIioayrXtR",
        "outputId": "2b4480f3-653e-415b-e34d-fb840bf01e44"
      },
      "execution_count": 9,
      "outputs": [
        {
          "output_type": "display_data",
          "data": {
            "text/plain": [
              "<Figure size 432x288 with 1 Axes>"
            ],
            "image/png": "[encoded data removed]"
          },
          "metadata": {
            "needs_background": "light"
          }
        }
      ]
    },
    {
      "cell_type": "markdown",
      "source": [
        "Parece que la edad sí influye bastante en la nota aprobatoria, los mayores de 20 no parecen haber aprobado, los de exactamente 20 fueron los que más aprobaron."
      ],
      "metadata": {
        "id": "iuYLwzdyue2T"
      }
    },
    {
      "cell_type": "markdown",
      "source": [
        "### Pregunta 4\n",
        "¿Hay alguna diferencia entre la nota final de los alumnos por género? Es decir, ¿el género influencía la distribución de las notas finales en sus alumnos?"
      ],
      "metadata": {
        "id": "9JhjrFUqc2-e"
      }
    },
    {
      "cell_type": "code",
      "source": [
        "dfF = df[df['sex']=='F'].reset_index(drop=True)\n",
        "len(dfF)"
      ],
      "metadata": {
        "colab": {
          "base_uri": "https://localhost:8080/"
        },
        "outputId": "3b15a4ac-e091-4cae-a90b-dba84e7ce136",
        "id": "smIlJ0DciBVZ"
      },
      "execution_count": 10,
      "outputs": [
        {
          "output_type": "execute_result",
          "data": {
            "text/plain": [
              "208"
            ]
          },
          "metadata": {},
          "execution_count": 10
        }
      ]
    },
    {
      "cell_type": "code",
      "source": [
        "dfM = df[df['sex']=='M'].reset_index(drop=True)\n",
        "len(dfM)"
      ],
      "metadata": {
        "colab": {
          "base_uri": "https://localhost:8080/"
        },
        "outputId": "5572f805-7749-4db0-cc94-70e661b978cb",
        "id": "1zhcQWDEiBVZ"
      },
      "execution_count": 11,
      "outputs": [
        {
          "output_type": "execute_result",
          "data": {
            "text/plain": [
              "187"
            ]
          },
          "metadata": {},
          "execution_count": 11
        }
      ]
    },
    {
      "cell_type": "code",
      "source": [
        "#En este caso, no hay una diferencia tan grande, sin embargo, continuaremos usando porcentaje para ser lo más precisos posible\n",
        "from matplotlib.ticker import PercentFormatter\n",
        "plt.hist(x=dfF['G3'], bins = 15, weights=np.ones(len(dfF)) / len(dfF), alpha = 0.5, label = \"F\", color = 'purple')\n",
        "plt.hist(x=dfM['G3'], bins = 15, weights=np.ones(len(dfM)) / len(dfM), alpha = 0.5, label = \"M\", color = 'cyan')\n",
        "plt.xlabel(\"Nota final\", size=14)\n",
        "plt.ylabel(\"Porcentaje de alumnos con la nota final\", size=14)\n",
        "plt.legend(loc='upper right')\n",
        "plt.title(\"Distribución de notas finales por género\")\n",
        "plt.gca().yaxis.set_major_formatter(PercentFormatter(1))\n",
        "plt.show()"
      ],
      "metadata": {
        "colab": {
          "base_uri": "https://localhost:8080/",
          "height": 314
        },
        "outputId": "aa45a9ed-b169-48d6-850a-823a7f0db60e",
        "id": "dlLOXjDYiBVZ"
      },
      "execution_count": 12,
      "outputs": [
        {
          "output_type": "display_data",
          "data": {
            "text/plain": [
              "<Figure size 432x288 with 1 Axes>"
            ],
            "image/png": "[encoded data removed]"
          },
          "metadata": {
            "needs_background": "light"
          }
        }
      ]
    },
    {
      "cell_type": "markdown",
      "source": [
        "Parece sí haber una diferencia entre las notas por género, inclusive parece haber dos distribuciones de mujeres, que se dividen en la nota 12.5, mientras que la de hombres parece ser más uniforme y con una tendencia a notas más altas, este puede ser un tema preocupante debido a que puede haber un sesgo por parte de los profesores hacia las estudiantes mujeres."
      ],
      "metadata": {
        "id": "A3x79hfAjkCf"
      }
    },
    {
      "cell_type": "markdown",
      "source": [
        "### Pregunta 5\n",
        "¿Qué trabajos tienen los padres de los alumnos con una nota final aprobatoria?"
      ],
      "metadata": {
        "id": "GtAhbB7Bc3SX"
      }
    },
    {
      "cell_type": "code",
      "source": [
        "countFJob = []\n",
        "Fjobs = []\n",
        "for i in np.unique(dfAp['Fjob']):\n",
        "  Fjobs.append(i)\n",
        "  countFJob.append(len(dfAp[dfAp['Fjob'] == i]))\n",
        "percentFJob = [0]*len(countFJob)\n",
        "for i in range(0, len(countFJob)):\n",
        "  percentFJob[i] = round(countFJob[i]/len(dfAp) * 100)\n",
        "percentFJob[-1] = 9"
      ],
      "metadata": {
        "id": "1ewn3OwHvnga"
      },
      "execution_count": 13,
      "outputs": []
    },
    {
      "cell_type": "code",
      "source": [
        "!pip install pywaffle"
      ],
      "metadata": {
        "colab": {
          "base_uri": "https://localhost:8080/"
        },
        "id": "vThyBDIBxgSN",
        "outputId": "cc6ff2e9-e243-4e1f-9440-941244a52351"
      },
      "execution_count": 14,
      "outputs": [
        {
          "output_type": "stream",
          "name": "stdout",
          "text": [
            "Looking in indexes: https://pypi.org/simple, https://us-python.pkg.dev/colab-wheels/public/simple/\n",
            "Requirement already satisfied: pywaffle in /usr/local/lib/python3.9/dist-packages (1.1.0)\n",
            "Requirement already satisfied: fontawesomefree in /usr/local/lib/python3.9/dist-packages (from pywaffle) (6.3.0)\n",
            "Requirement already satisfied: matplotlib in /usr/local/lib/python3.9/dist-packages (from pywaffle) (3.5.3)\n",
            "Requirement already satisfied: python-dateutil>=2.7 in /usr/local/lib/python3.9/dist-packages (from matplotlib->pywaffle) (2.8.2)\n",
            "Requirement already satisfied: pyparsing>=2.2.1 in /usr/local/lib/python3.9/dist-packages (from matplotlib->pywaffle) (3.0.9)\n",
            "Requirement already satisfied: packaging>=20.0 in /usr/local/lib/python3.9/dist-packages (from matplotlib->pywaffle) (23.0)\n",
            "Requirement already satisfied: fonttools>=4.22.0 in /usr/local/lib/python3.9/dist-packages (from matplotlib->pywaffle) (4.39.0)\n",
            "Requirement already satisfied: numpy>=1.17 in /usr/local/lib/python3.9/dist-packages (from matplotlib->pywaffle) (1.22.4)\n",
            "Requirement already satisfied: cycler>=0.10 in /usr/local/lib/python3.9/dist-packages (from matplotlib->pywaffle) (0.11.0)\n",
            "Requirement already satisfied: pillow>=6.2.0 in /usr/local/lib/python3.9/dist-packages (from matplotlib->pywaffle) (8.4.0)\n",
            "Requirement already satisfied: kiwisolver>=1.0.1 in /usr/local/lib/python3.9/dist-packages (from matplotlib->pywaffle) (1.4.4)\n",
            "Requirement already satisfied: six>=1.5 in /usr/local/lib/python3.9/dist-packages (from python-dateutil>=2.7->matplotlib->pywaffle) (1.15.0)\n"
          ]
        }
      ]
    },
    {
      "cell_type": "code",
      "source": [
        "from pywaffle import Waffle"
      ],
      "metadata": {
        "id": "hGiSXKNOxjeC"
      },
      "execution_count": 15,
      "outputs": []
    },
    {
      "cell_type": "code",
      "source": [
        "plt.figure(\n",
        "    FigureClass = Waffle,\n",
        "    rows = 10,\n",
        "    values = percentFJob,\n",
        "    legend={\"labels\":Fjobs, \"loc\":\"lower left\", 'bbox_to_anchor': (-0.5, -0.2), 'ncol':len(Fjobs), 'fontsize':10},\n",
        "    icons = 'user') \n",
        "\n",
        "plt.title(\"Trabajos de los padres de alumnos que aprueban\")\n",
        "plt.show() "
      ],
      "metadata": {
        "colab": {
          "base_uri": "https://localhost:8080/",
          "height": 296
        },
        "id": "_XFsvPGKxZKu",
        "outputId": "e2ab8e67-96bf-4d2d-f150-06786278d4fd"
      },
      "execution_count": 16,
      "outputs": [
        {
          "output_type": "display_data",
          "data": {
            "text/plain": [
              "<Waffle size 432x288 with 1 Axes>"
            ],
            "image/png": "[encoded data removed]"
          },
          "metadata": {
            "needs_background": "light"
          }
        }
      ]
    },
    {
      "cell_type": "markdown",
      "source": [
        "Parece que el trabajo más común, tomando en cuenta que \"other\" son varios, parece ser los servicios, seguido por profesor, y un empate en salud y en casa."
      ],
      "metadata": {
        "id": "8ChmxwJp019c"
      }
    },
    {
      "cell_type": "markdown",
      "source": [
        "### Pregunta 6\n",
        "¿Qué trabajos tienen las madres de los alumnos con una nota final aprobatoria?"
      ],
      "metadata": {
        "id": "QCyrtE6dc3XH"
      }
    },
    {
      "cell_type": "code",
      "source": [
        "countMJob = []\n",
        "Mjobs = []\n",
        "for i in np.unique(dfAp['Mjob']):\n",
        "  Mjobs.append(i)\n",
        "  countMJob.append(len(dfAp[dfAp['Mjob'] == i]))\n",
        "percentMJob = [0]*len(countMJob)\n",
        "for i in range(0, len(countMJob)):\n",
        "  percentMJob[i] = round(countMJob[i]/len(dfAp) * 100)\n",
        "percentMJob[1] = 12"
      ],
      "metadata": {
        "id": "SYqa26et0OjI"
      },
      "execution_count": 17,
      "outputs": []
    },
    {
      "cell_type": "code",
      "source": [
        "plt.figure(\n",
        "    FigureClass = Waffle,\n",
        "    rows = 10,\n",
        "    values = percentMJob,\n",
        "    legend={\"labels\":Mjobs, \"loc\":\"lower left\", 'bbox_to_anchor': (-0.5, -0.2), 'ncol':len(Mjobs), 'fontsize':10},\n",
        "    icons = 'user') \n",
        "\n",
        "plt.title(\"Trabajos de las madres de alumnos que aprueban\")\n",
        "plt.show() "
      ],
      "metadata": {
        "colab": {
          "base_uri": "https://localhost:8080/",
          "height": 296
        },
        "outputId": "b20a9057-d14d-451f-cc8f-317cd16f0e2b",
        "id": "yrY_zGkn0OjJ"
      },
      "execution_count": 18,
      "outputs": [
        {
          "output_type": "display_data",
          "data": {
            "text/plain": [
              "<Waffle size 432x288 with 1 Axes>"
            ],
            "image/png": "[encoded data removed]"
          },
          "metadata": {
            "needs_background": "light"
          }
        }
      ]
    },
    {
      "cell_type": "markdown",
      "source": [
        "Se parece mucho a la distribución de los padres, pero hay más variedad, no tan dominado por \"Other\", y no hay un empate en salud y casa, salud es más común."
      ],
      "metadata": {
        "id": "A0zOhAf60_iT"
      }
    },
    {
      "cell_type": "markdown",
      "source": [
        "### Pregunta 7\n",
        "¿Qué tan relevante es el consumo de alcohol al día para una nota final aprobatoria?"
      ],
      "metadata": {
        "id": "G8qzyVDrc3dQ"
      }
    },
    {
      "cell_type": "code",
      "source": [
        "countAlc = []\n",
        "countBooze = []\n",
        "Consump = []\n",
        "for i in np.unique(df['Dalc']):\n",
        "  Consump.append(i)\n",
        "  countBooze.append(len(dfAp[dfAp['Dalc'] == i]))\n",
        "  countAlc.append(len(df[df['Dalc'] == i]))\n",
        "percentAlc = [0]*len(countAlc)\n",
        "for i in range(0,len(countAlc)):\n",
        "  percentAlc[i] = countBooze[i]/countAlc[i]"
      ],
      "metadata": {
        "id": "oHF51gsZ1qfx"
      },
      "execution_count": 19,
      "outputs": []
    },
    {
      "cell_type": "code",
      "source": [
        "plt.bar(Consump, percentAlc, color = 'magenta')\n",
        "plt.gca().yaxis.set_major_formatter(PercentFormatter(1))\n",
        "plt.title('Porcentaje de personas con nota aprobatoria que consumen cierta cantidad de alcohol diario')\n",
        "plt.xlabel(\"Consumo de alcohol en escala de 1(poco) a 5(mucho)\")\n",
        "plt.ylabel(\"Porcentaje de aprobación\")\n",
        "plt.show()"
      ],
      "metadata": {
        "colab": {
          "base_uri": "https://localhost:8080/",
          "height": 295
        },
        "outputId": "2c89b4a1-cfd4-4f36-c5da-420c84c8ebdb",
        "id": "8BdD3Ceo1qf2"
      },
      "execution_count": 20,
      "outputs": [
        {
          "output_type": "display_data",
          "data": {
            "text/plain": [
              "<Figure size 432x288 with 1 Axes>"
            ],
            "image/png": "[encoded data removed]"
          },
          "metadata": {
            "needs_background": "light"
          }
        }
      ]
    },
    {
      "cell_type": "markdown",
      "source": [
        "Sorprendentemente, los consumos extremistas (mucho o poco) son los que parecen tener más porcentaje de aprobación, esto es algo que no esperaríamos, ya que uno supondría que si alguien bebe mucho entonces tendría un mal desempeño, podría ser que aquellos que beben mucho están más acostumbrados y por ende les afecta menos (lo controlan mejor)."
      ],
      "metadata": {
        "id": "w17oQ0Q32OE0"
      }
    },
    {
      "cell_type": "markdown",
      "source": [
        "### Pregunta 8\n",
        "¿Y el consumo solo en fines de semana?"
      ],
      "metadata": {
        "id": "YwninKFwc3mu"
      }
    },
    {
      "cell_type": "code",
      "source": [
        "countAlcW = []\n",
        "countBoozeW = []\n",
        "ConsumpW = []\n",
        "for i in np.unique(df['Walc']):\n",
        "  ConsumpW.append(i)\n",
        "  countBoozeW.append(len(dfAp[dfAp['Walc'] == i]))\n",
        "  countAlcW.append(len(df[df['Walc'] == i]))\n",
        "percentAlcW = [0]*len(countAlcW)\n",
        "for i in range(0,len(countAlcW)):\n",
        "  percentAlcW[i] = countBoozeW[i]/countAlcW[i]"
      ],
      "metadata": {
        "id": "7QPbgoY32hS8"
      },
      "execution_count": 21,
      "outputs": []
    },
    {
      "cell_type": "code",
      "source": [
        "plt.bar(ConsumpW, percentAlcW, color = 'purple')\n",
        "plt.gca().yaxis.set_major_formatter(PercentFormatter(1))\n",
        "plt.title('Porcentaje de personas con nota aprobatoria que consumen cierta cantidad de alcohol en fines de semana')\n",
        "plt.xlabel(\"Consumo de alcohol en escala de 1(poco) a 5(mucho)\")\n",
        "plt.ylabel(\"Porcentaje de aprobación\")\n",
        "plt.show()"
      ],
      "metadata": {
        "colab": {
          "base_uri": "https://localhost:8080/",
          "height": 295
        },
        "outputId": "5e450dfc-e617-43d9-de3a-6a0411d5d9a3",
        "id": "9G3jTJWG2hTB"
      },
      "execution_count": 22,
      "outputs": [
        {
          "output_type": "display_data",
          "data": {
            "text/plain": [
              "<Figure size 432x288 with 1 Axes>"
            ],
            "image/png": "[encoded data removed]"
          },
          "metadata": {
            "needs_background": "light"
          }
        }
      ]
    },
    {
      "cell_type": "markdown",
      "source": [
        "Este resultado es más lo que se esperaría, parece que entre más beben en fines de semana, peor su rendimiento, esto puede tener sentido, si alguien consume mucho alcohol en fines de semana puede saltarse sesiones de estudio o de hacer tarea, sin embargo, alguien que consume mucho diario ya está acostumbrado y \"controla mejor\" sus hábitos."
      ],
      "metadata": {
        "id": "tE5RyQYX2hTB"
      }
    },
    {
      "cell_type": "markdown",
      "source": [
        "### Pregunta 9\n",
        "¿Una relación romántica influye en el desempeño?"
      ],
      "metadata": {
        "id": "rwjBXPocc3t-"
      }
    },
    {
      "cell_type": "code",
      "source": [
        "dfyes = df[df['romantic']=='yes'].reset_index(drop=True)\n",
        "len(dfyes)"
      ],
      "metadata": {
        "colab": {
          "base_uri": "https://localhost:8080/"
        },
        "outputId": "c975564d-e7c2-44cd-bb0c-57dada2a38a8",
        "id": "947vlZYV3OJb"
      },
      "execution_count": 23,
      "outputs": [
        {
          "output_type": "execute_result",
          "data": {
            "text/plain": [
              "132"
            ]
          },
          "metadata": {},
          "execution_count": 23
        }
      ]
    },
    {
      "cell_type": "code",
      "source": [
        "dfno = df[df['romantic']=='no'].reset_index(drop=True)\n",
        "\n",
        "len(dfno)"
      ],
      "metadata": {
        "colab": {
          "base_uri": "https://localhost:8080/"
        },
        "outputId": "731f066a-1d6b-464f-df38-ac685d4cae63",
        "id": "T0X3PAVj3OJg"
      },
      "execution_count": 24,
      "outputs": [
        {
          "output_type": "execute_result",
          "data": {
            "text/plain": [
              "263"
            ]
          },
          "metadata": {},
          "execution_count": 24
        }
      ]
    },
    {
      "cell_type": "code",
      "source": [
        "#Como hay una diferencia importante en cantidad de alumnos, mediremos por porcentaje y no por cantidad\n",
        "plt.hist(x=dfyes['G3'], bins = 15, weights=np.ones(len(dfyes)) / len(dfyes), alpha = 0.5, label = \"yes\", color = 'red')\n",
        "plt.hist(x=dfno['G3'], bins = 15, weights=np.ones(len(dfno)) / len(dfno), alpha = 0.5, label = \"no\", color = 'black')\n",
        "plt.xlabel(\"Nota final\", size=14)\n",
        "plt.ylabel(\"Porcentaje de alumnos con la nota final\", size=14)\n",
        "plt.legend(loc='upper right')\n",
        "plt.title(\"Distribución de notas finales por relación romántica\")\n",
        "plt.gca().yaxis.set_major_formatter(PercentFormatter(1))\n",
        "plt.show()"
      ],
      "metadata": {
        "colab": {
          "base_uri": "https://localhost:8080/",
          "height": 314
        },
        "outputId": "b32e055b-3981-4ff7-e6ad-9e253ddc1193",
        "id": "dw7aNChM3OJg"
      },
      "execution_count": 25,
      "outputs": [
        {
          "output_type": "display_data",
          "data": {
            "text/plain": [
              "<Figure size 432x288 with 1 Axes>"
            ],
            "image/png": "[encoded data removed]"
          },
          "metadata": {
            "needs_background": "light"
          }
        }
      ]
    },
    {
      "cell_type": "markdown",
      "source": [
        "Los que tienen una relación romántica parecen ser más propensos a sacar 0, tal vez faltan más, también parecen ser más propensos a sacar notas más bajas, salvo los que están justo en medio, al parecer, el alumno medio en una relación saca más que el alumno medio soltero, sin embargo, en los extremos, los que no están en una relación les va mejor."
      ],
      "metadata": {
        "id": "5hv7ayad4Cm8"
      }
    },
    {
      "cell_type": "markdown",
      "source": [
        "### Pregunta 10\n",
        "¿Qué relación tienen con su familia los alumnos que reprueban?"
      ],
      "metadata": {
        "id": "7Zt4m4YKc3zG"
      }
    },
    {
      "cell_type": "code",
      "source": [
        "dfnAp = df[df['G3']<=10].reset_index(drop=True)"
      ],
      "metadata": {
        "id": "vKjA6Eq_42-a"
      },
      "execution_count": 26,
      "outputs": []
    },
    {
      "cell_type": "code",
      "source": [
        "countfam = []\n",
        "countfamrel = []\n",
        "relation = []\n",
        "for i in np.unique(df['famrel']):\n",
        "  relation.append(i)\n",
        "  countfamrel.append(len(dfAp[dfAp['famrel'] == i]))\n",
        "  countfam.append(len(df[df['famrel'] == i]))\n",
        "percentfamrel = [0]*len(countfam)\n",
        "for i in range(0,len(countfam)):\n",
        "  percentfamrel[i] = countfamrel[i]/countfam[i]"
      ],
      "metadata": {
        "id": "Wpaw8Fi35BiN"
      },
      "execution_count": 27,
      "outputs": []
    },
    {
      "cell_type": "code",
      "source": [
        "plt.bar(relation, percentfamrel, color = 'orange')\n",
        "plt.gca().yaxis.set_major_formatter(PercentFormatter(1))\n",
        "plt.title('Porcentaje de personas con nota reprobatoria que que tienen cierta relación con su familia')\n",
        "plt.xlabel(\"Relación con su familia en escala de 1(mala) a 5(buena)\")\n",
        "plt.ylabel(\"Porcentaje de aprobación\")\n",
        "plt.show()"
      ],
      "metadata": {
        "colab": {
          "base_uri": "https://localhost:8080/",
          "height": 295
        },
        "outputId": "10e58e67-2bed-453c-acc1-a6d8ddc41818",
        "id": "J6TQMRxB5BiN"
      },
      "execution_count": 28,
      "outputs": [
        {
          "output_type": "display_data",
          "data": {
            "text/plain": [
              "<Figure size 432x288 with 1 Axes>"
            ],
            "image/png": "[encoded data removed]"
          },
          "metadata": {
            "needs_background": "light"
          }
        }
      ]
    },
    {
      "cell_type": "markdown",
      "source": [
        "Parece que los extremos vuelven a ser los más altos, las malas relaciones (1 y 2) dan mal desempeño, mientras que aquellos con muy buena relación también, la explicación posible es que aquellos con mala relación obviamente viven un ambiente de estrés, y aquellos con muy buena relación tal vez se preocupan menos por su desempeño académico."
      ],
      "metadata": {
        "id": "xZS6whkt5ZK7"
      }
    }
  ]
}