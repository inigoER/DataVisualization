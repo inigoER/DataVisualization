{
  "nbformat": 4,
  "nbformat_minor": 0,
  "metadata": {
    "colab": {
      "provenance": []
    },
    "kernelspec": {
      "name": "python3",
      "display_name": "Python 3"
    },
    "language_info": {
      "name": "python"
    }
  },
  "cells": [
    {
      "cell_type": "code",
      "source": [
        "import numpy as np\n",
        "import pandas as pd\n",
        "import matplotlib.pyplot as plt\n",
        "import seaborn as sns"
      ],
      "metadata": {
        "id": "6I8HGVtJVzlg"
      },
      "execution_count": 1,
      "outputs": []
    },
    {
      "cell_type": "markdown",
      "source": [
        "# Ejercicio 2\n",
        "## Graficos de Barras"
      ],
      "metadata": {
        "id": "tpp2ySwKV31w"
      }
    },
    {
      "cell_type": "code",
      "source": [
        "data = sns.load_dataset(\"penguins\")\n",
        "data.head()"
      ],
      "metadata": {
        "colab": {
          "base_uri": "https://localhost:8080/",
          "height": 206
        },
        "id": "zRLsgAZVV2gr",
        "outputId": "f51bfe7a-cf62-4fc8-ff12-1abf1de5b23b"
      },
      "execution_count": 2,
      "outputs": [
        {
          "output_type": "execute_result",
          "data": {
            "text/plain": [
              "  species     island  bill_length_mm  bill_depth_mm  flipper_length_mm  \\\n",
              "0  Adelie  Torgersen            39.1           18.7              181.0   \n",
              "1  Adelie  Torgersen            39.5           17.4              186.0   \n",
              "2  Adelie  Torgersen            40.3           18.0              195.0   \n",
              "3  Adelie  Torgersen             NaN            NaN                NaN   \n",
              "4  Adelie  Torgersen            36.7           19.3              193.0   \n",
              "\n",
              "   body_mass_g     sex  \n",
              "0       3750.0    Male  \n",
              "1       3800.0  Female  \n",
              "2       3250.0  Female  \n",
              "3          NaN     NaN  \n",
              "4       3450.0  Female  "
            ],
            "text/html": [
              "\n",
              "  <div id=\"df-44c37bbd-d53a-469b-8f61-c4e339ba8cb5\">\n",
              "    <div class=\"colab-df-container\">\n",
              "      <div>\n",
              "<style scoped>\n",
              "    .dataframe tbody tr th:only-of-type {\n",
              "        vertical-align: middle;\n",
              "    }\n",
              "\n",
              "    .dataframe tbody tr th {\n",
              "        vertical-align: top;\n",
              "    }\n",
              "\n",
              "    .dataframe thead th {\n",
              "        text-align: right;\n",
              "    }\n",
              "</style>\n",
              "<table border=\"1\" class=\"dataframe\">\n",
              "  <thead>\n",
              "    <tr style=\"text-align: right;\">\n",
              "      <th></th>\n",
              "      <th>species</th>\n",
              "      <th>island</th>\n",
              "      <th>bill_length_mm</th>\n",
              "      <th>bill_depth_mm</th>\n",
              "      <th>flipper_length_mm</th>\n",
              "      <th>body_mass_g</th>\n",
              "      <th>sex</th>\n",
              "    </tr>\n",
              "  </thead>\n",
              "  <tbody>\n",
              "    <tr>\n",
              "      <th>0</th>\n",
              "      <td>Adelie</td>\n",
              "      <td>Torgersen</td>\n",
              "      <td>39.1</td>\n",
              "      <td>18.7</td>\n",
              "      <td>181.0</td>\n",
              "      <td>3750.0</td>\n",
              "      <td>Male</td>\n",
              "    </tr>\n",
              "    <tr>\n",
              "      <th>1</th>\n",
              "      <td>Adelie</td>\n",
              "      <td>Torgersen</td>\n",
              "      <td>39.5</td>\n",
              "      <td>17.4</td>\n",
              "      <td>186.0</td>\n",
              "      <td>3800.0</td>\n",
              "      <td>Female</td>\n",
              "    </tr>\n",
              "    <tr>\n",
              "      <th>2</th>\n",
              "      <td>Adelie</td>\n",
              "      <td>Torgersen</td>\n",
              "      <td>40.3</td>\n",
              "      <td>18.0</td>\n",
              "      <td>195.0</td>\n",
              "      <td>3250.0</td>\n",
              "      <td>Female</td>\n",
              "    </tr>\n",
              "    <tr>\n",
              "      <th>3</th>\n",
              "      <td>Adelie</td>\n",
              "      <td>Torgersen</td>\n",
              "      <td>NaN</td>\n",
              "      <td>NaN</td>\n",
              "      <td>NaN</td>\n",
              "      <td>NaN</td>\n",
              "      <td>NaN</td>\n",
              "    </tr>\n",
              "    <tr>\n",
              "      <th>4</th>\n",
              "      <td>Adelie</td>\n",
              "      <td>Torgersen</td>\n",
              "      <td>36.7</td>\n",
              "      <td>19.3</td>\n",
              "      <td>193.0</td>\n",
              "      <td>3450.0</td>\n",
              "      <td>Female</td>\n",
              "    </tr>\n",
              "  </tbody>\n",
              "</table>\n",
              "</div>\n",
              "      <button class=\"colab-df-convert\" onclick=\"convertToInteractive('df-44c37bbd-d53a-469b-8f61-c4e339ba8cb5')\"\n",
              "              title=\"Convert this dataframe to an interactive table.\"\n",
              "              style=\"display:none;\">\n",
              "        \n",
              "  <svg xmlns=\"http://www.w3.org/2000/svg\" height=\"24px\"viewBox=\"0 0 24 24\"\n",
              "       width=\"24px\">\n",
              "    <path d=\"M0 0h24v24H0V0z\" fill=\"none\"/>\n",
              "    <path d=\"M18.56 5.44l.94 2.06.94-2.06 2.06-.94-2.06-.94-.94-2.06-.94 2.06-2.06.94zm-11 1L8.5 8.5l.94-2.06 2.06-.94-2.06-.94L8.5 2.5l-.94 2.06-2.06.94zm10 10l.94 2.06.94-2.06 2.06-.94-2.06-.94-.94-2.06-.94 2.06-2.06.94z\"/><path d=\"M17.41 7.96l-1.37-1.37c-.4-.4-.92-.59-1.43-.59-.52 0-1.04.2-1.43.59L10.3 9.45l-7.72 7.72c-.78.78-.78 2.05 0 2.83L4 21.41c.39.39.9.59 1.41.59.51 0 1.02-.2 1.41-.59l7.78-7.78 2.81-2.81c.8-.78.8-2.07 0-2.86zM5.41 20L4 18.59l7.72-7.72 1.47 1.35L5.41 20z\"/>\n",
              "  </svg>\n",
              "      </button>\n",
              "      \n",
              "  <style>\n",
              "    .colab-df-container {\n",
              "      display:flex;\n",
              "      flex-wrap:wrap;\n",
              "      gap: 12px;\n",
              "    }\n",
              "\n",
              "    .colab-df-convert {\n",
              "      background-color: #E8F0FE;\n",
              "      border: none;\n",
              "      border-radius: 50%;\n",
              "      cursor: pointer;\n",
              "      display: none;\n",
              "      fill: #1967D2;\n",
              "      height: 32px;\n",
              "      padding: 0 0 0 0;\n",
              "      width: 32px;\n",
              "    }\n",
              "\n",
              "    .colab-df-convert:hover {\n",
              "      background-color: #E2EBFA;\n",
              "      box-shadow: 0px 1px 2px rgba(60, 64, 67, 0.3), 0px 1px 3px 1px rgba(60, 64, 67, 0.15);\n",
              "      fill: #174EA6;\n",
              "    }\n",
              "\n",
              "    [theme=dark] .colab-df-convert {\n",
              "      background-color: #3B4455;\n",
              "      fill: #D2E3FC;\n",
              "    }\n",
              "\n",
              "    [theme=dark] .colab-df-convert:hover {\n",
              "      background-color: #434B5C;\n",
              "      box-shadow: 0px 1px 3px 1px rgba(0, 0, 0, 0.15);\n",
              "      filter: drop-shadow(0px 1px 2px rgba(0, 0, 0, 0.3));\n",
              "      fill: #FFFFFF;\n",
              "    }\n",
              "  </style>\n",
              "\n",
              "      <script>\n",
              "        const buttonEl =\n",
              "          document.querySelector('#df-44c37bbd-d53a-469b-8f61-c4e339ba8cb5 button.colab-df-convert');\n",
              "        buttonEl.style.display =\n",
              "          google.colab.kernel.accessAllowed ? 'block' : 'none';\n",
              "\n",
              "        async function convertToInteractive(key) {\n",
              "          const element = document.querySelector('#df-44c37bbd-d53a-469b-8f61-c4e339ba8cb5');\n",
              "          const dataTable =\n",
              "            await google.colab.kernel.invokeFunction('convertToInteractive',\n",
              "                                                     [key], {});\n",
              "          if (!dataTable) return;\n",
              "\n",
              "          const docLinkHtml = 'Like what you see? Visit the ' +\n",
              "            '<a target=\"_blank\" href=https://colab.research.google.com/notebooks/data_table.ipynb>data table notebook</a>'\n",
              "            + ' to learn more about interactive tables.';\n",
              "          element.innerHTML = '';\n",
              "          dataTable['output_type'] = 'display_data';\n",
              "          await google.colab.output.renderOutput(dataTable, element);\n",
              "          const docLink = document.createElement('div');\n",
              "          docLink.innerHTML = docLinkHtml;\n",
              "          element.appendChild(docLink);\n",
              "        }\n",
              "      </script>\n",
              "    </div>\n",
              "  </div>\n",
              "  "
            ]
          },
          "metadata": {},
          "execution_count": 2
        }
      ]
    },
    {
      "cell_type": "markdown",
      "source": [
        "1. Crea una tabla agrupada segun `species`, y calcula el minimo de `body_mass_g` para cada una (ignorando valores nulos). Grafica esos valores. Incluye un titulo adecuado."
      ],
      "metadata": {
        "id": "IIyxF7SmXSG9"
      }
    },
    {
      "cell_type": "code",
      "source": [
        "species = data.groupby(\"species\")[[\"body_mass_g\"]].min()\n",
        "plt.bar(species.index, species[\"body_mass_g\"])\n",
        "plt.title(\"Peso mínimo de cada especie\")\n",
        "plt.show()"
      ],
      "metadata": {
        "id": "Qtctiii5WJD9",
        "colab": {
          "base_uri": "https://localhost:8080/",
          "height": 281
        },
        "outputId": "69dd540a-02a4-4d8a-a63c-628140764396"
      },
      "execution_count": 3,
      "outputs": [
        {
          "output_type": "display_data",
          "data": {
            "text/plain": [
              "<Figure size 432x288 with 1 Axes>"
            ],
            "image/png": "[encoded data removed]"
          },
          "metadata": {
            "needs_background": "light"
          }
        }
      ]
    },
    {
      "cell_type": "markdown",
      "source": [
        "2. Crea una tabla agrupada segun `island`, y calcula el minimo de `bill_depth_mm` para cada una (ignorando valores nulos). \n",
        "Grafica esos valores en un grafico de barras **horizontal**. Incluye un titulo adecuado."
      ],
      "metadata": {
        "id": "rs6R_7guX0y5"
      }
    },
    {
      "cell_type": "code",
      "source": [
        "island = data.groupby(\"island\")[[\"bill_depth_mm\"]].min()\n",
        "plt.barh(island.index, island[\"bill_depth_mm\"])\n",
        "plt.title(\"Medida más pequeña de pico de cada isla\")\n",
        "plt.show()"
      ],
      "metadata": {
        "id": "8tOYnUGtYMlJ",
        "colab": {
          "base_uri": "https://localhost:8080/",
          "height": 281
        },
        "outputId": "afd6c348-eb97-4eb6-b5cd-bb43bc21fbfc"
      },
      "execution_count": 4,
      "outputs": [
        {
          "output_type": "display_data",
          "data": {
            "text/plain": [
              "<Figure size 432x288 with 1 Axes>"
            ],
            "image/png": "[encoded data removed]"
          },
          "metadata": {
            "needs_background": "light"
          }
        }
      ]
    },
    {
      "cell_type": "markdown",
      "source": [
        "3. Repite tu grafica anterior, pero cambia la opcion dentro de `plt.barh()` que te genere barras de color verde."
      ],
      "metadata": {
        "id": "WWsQxLuhYR9p"
      }
    },
    {
      "cell_type": "code",
      "source": [
        "island = data.groupby(\"island\")[[\"bill_depth_mm\"]].min()\n",
        "plt.barh(island.index, island[\"bill_depth_mm\"], color = 'g')\n",
        "plt.title(\"Medida más pequeña de profundidad de pico de cada isla\")\n",
        "plt.show()"
      ],
      "metadata": {
        "id": "u4WwkTBUYcEu",
        "colab": {
          "base_uri": "https://localhost:8080/",
          "height": 281
        },
        "outputId": "ed3d0455-86e8-4df2-e536-b5b2c0a5de7f"
      },
      "execution_count": 5,
      "outputs": [
        {
          "output_type": "display_data",
          "data": {
            "text/plain": [
              "<Figure size 432x288 with 1 Axes>"
            ],
            "image/png": "[encoded data removed]"
          },
          "metadata": {
            "needs_background": "light"
          }
        }
      ]
    },
    {
      "cell_type": "markdown",
      "source": [
        "4. Crea una tabla agrupada segun `species` e `island`, y calcula el promedio de `bill_length_mm` para cada combinacion (ignorando valores nulos). Grafica esos valores. Incluye un titulo adecuado."
      ],
      "metadata": {
        "id": "DcUAqiTVXiHU"
      }
    },
    {
      "cell_type": "code",
      "source": [
        "dataBiscoe = data[data[\"island\"]==\"Biscoe\"]\n",
        "dataDream = data[data[\"island\"]==\"Dream\"]\n",
        "dataTorgersen = data[data[\"island\"]==\"Torgersen\"]\n",
        "species_and_Biscoe = dataBiscoe.groupby(\"species\")[[\"bill_length_mm\"]].mean()\n",
        "species_and_Dream = dataDream.groupby(\"species\")[[\"bill_length_mm\"]].mean()\n",
        "species_and_Torgersen = dataTorgersen.groupby(\"species\")[[\"bill_length_mm\"]].mean()\n",
        "ticklabels = ['Adelie','Gentoo','Adelie','Chinstrap','Adelie']\n",
        "plt.bar([0,1], species_and_Biscoe[\"bill_length_mm\"], label = 'Biscoe')\n",
        "plt.bar([2,3], species_and_Dream[\"bill_length_mm\"], label = 'Dream')\n",
        "plt.bar([4], species_and_Torgersen[\"bill_length_mm\"], label = 'Torgersen')\n",
        "plt.xticks(range(len(ticklabels)), labels = ticklabels)\n",
        "plt.legend(bbox_to_anchor=(1.1, 1))\n",
        "plt.title(\"Longitud promedio de pico por especie e isla\")\n",
        "plt.show()"
      ],
      "metadata": {
        "id": "orzYYEdqX0Pv",
        "colab": {
          "base_uri": "https://localhost:8080/",
          "height": 281
        },
        "outputId": "08214394-0975-4f0f-a459-3ed7b438562a"
      },
      "execution_count": 6,
      "outputs": [
        {
          "output_type": "display_data",
          "data": {
            "text/plain": [
              "<Figure size 432x288 with 1 Axes>"
            ],
            "image/png": "[encoded data removed]"
          },
          "metadata": {
            "needs_background": "light"
          }
        }
      ]
    },
    {
      "cell_type": "markdown",
      "source": [
        "5. Repite la grafica anterior. Investiga como agregar _Grid lines_ y agrega unas a tu grafica. Los parametros que uses son a tu eleccion."
      ],
      "metadata": {
        "id": "EkmTaR6KYeoM"
      }
    },
    {
      "cell_type": "code",
      "source": [
        "dataBiscoe = data[data[\"island\"]==\"Biscoe\"]\n",
        "dataDream = data[data[\"island\"]==\"Dream\"]\n",
        "dataTorgersen = data[data[\"island\"]==\"Torgersen\"]\n",
        "species_and_Biscoe = dataBiscoe.groupby(\"species\")[[\"bill_length_mm\"]].mean()\n",
        "species_and_Dream = dataDream.groupby(\"species\")[[\"bill_length_mm\"]].mean()\n",
        "species_and_Torgersen = dataTorgersen.groupby(\"species\")[[\"bill_length_mm\"]].mean()\n",
        "ticklabels = ['Adelie','Gentoo','Adelie','Chinstrap','Adelie']\n",
        "plt.bar([0,1], species_and_Biscoe[\"bill_length_mm\"], label = 'Biscoe')\n",
        "plt.bar([2,3], species_and_Dream[\"bill_length_mm\"], label = 'Dream')\n",
        "plt.bar([4], species_and_Torgersen[\"bill_length_mm\"], label = 'Torgersen')\n",
        "plt.xticks(range(len(ticklabels)), labels = ticklabels)\n",
        "plt.legend(bbox_to_anchor=(1.1, 1))\n",
        "plt.grid(axis = 'y', color = 'r', linestyle = '--', linewidth = 2)\n",
        "plt.grid(axis = 'x', color = 'gray', linestyle = '-', linewidth = 2)\n",
        "plt.title(\"Longitud promedio de pico por especie e isla\")\n",
        "plt.show()"
      ],
      "metadata": {
        "id": "8of4DzQHYsxH",
        "colab": {
          "base_uri": "https://localhost:8080/",
          "height": 281
        },
        "outputId": "97471054-dd7d-481f-aca4-55edcce2180c"
      },
      "execution_count": 7,
      "outputs": [
        {
          "output_type": "display_data",
          "data": {
            "text/plain": [
              "<Figure size 432x288 with 1 Axes>"
            ],
            "image/png": "[encoded data removed]"
          },
          "metadata": {
            "needs_background": "light"
          }
        }
      ]
    }
  ]
}